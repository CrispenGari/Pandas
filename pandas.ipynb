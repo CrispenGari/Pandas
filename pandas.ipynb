{
 "cells": [
  {
   "cell_type": "markdown",
   "id": "6a1a4c15",
   "metadata": {},
   "source": [
    "### Pandas\n",
    "\n",
    "In this notebook we are going to learn some `pandas` stuff when working with data. In this notebook we are going to look at the following in pandas.\n",
    "\n",
    "1. Input and Output ✔\n",
    "2. Pandas series\n",
    "3. DataFrames\n",
    "4. Pandas Arrays\n",
    "5. Index Objects\n",
    "\n",
    "\n",
    "If you don't have pandas installed you can install it by running the following command:\n",
    "\n",
    "```shell\n",
    "!pip install pandas\n",
    "```\n",
    "\n",
    "> Note that when you are using `anacoda` you don't need to install pandas as it comes installed.\n",
    "\n",
    "In the following code cell we are going to import `pandas` with an alias `pd` and check the version of pandas."
   ]
  },
  {
   "cell_type": "code",
   "execution_count": 1,
   "id": "0ee08bcc",
   "metadata": {},
   "outputs": [
    {
     "data": {
      "text/plain": [
       "'1.5.3'"
      ]
     },
     "execution_count": 1,
     "metadata": {},
     "output_type": "execute_result"
    }
   ],
   "source": [
    "import pandas as pd\n",
    "pd.__version__"
   ]
  },
  {
   "cell_type": "code",
   "execution_count": null,
   "id": "ea6bfa4b",
   "metadata": {},
   "outputs": [],
   "source": []
  },
  {
   "cell_type": "code",
   "execution_count": null,
   "id": "bc4e0d69",
   "metadata": {},
   "outputs": [],
   "source": []
  },
  {
   "cell_type": "code",
   "execution_count": null,
   "id": "a552ea45",
   "metadata": {},
   "outputs": [],
   "source": []
  },
  {
   "cell_type": "markdown",
   "id": "56215cb7",
   "metadata": {},
   "source": [
    "### Refs\n",
    "\n",
    "1. [pandas.pydata.org](https://pandas.pydata.org/docs/user_guide/index.html)\n",
    "2. []()"
   ]
  },
  {
   "cell_type": "code",
   "execution_count": null,
   "id": "fda71597",
   "metadata": {},
   "outputs": [],
   "source": []
  }
 ],
 "metadata": {
  "kernelspec": {
   "display_name": "Python 3 (ipykernel)",
   "language": "python",
   "name": "python3"
  },
  "language_info": {
   "codemirror_mode": {
    "name": "ipython",
    "version": 3
   },
   "file_extension": ".py",
   "mimetype": "text/x-python",
   "name": "python",
   "nbconvert_exporter": "python",
   "pygments_lexer": "ipython3",
   "version": "3.11.4"
  }
 },
 "nbformat": 4,
 "nbformat_minor": 5
}
