{
 "cells": [
  {
   "cell_type": "markdown",
   "id": "nasty-conversion",
   "metadata": {},
   "source": [
    "# VISUALISING THE EFFECTS OF COVID19 ON TRADE"
   ]
  },
  {
   "cell_type": "markdown",
   "id": "fuzzy-pioneer",
   "metadata": {},
   "source": [
    "## Imports"
   ]
  },
  {
   "cell_type": "code",
   "execution_count": 10,
   "id": "lonely-camel",
   "metadata": {},
   "outputs": [],
   "source": [
    "\n",
    "import pandas as pd\n",
    "import numpy as np\n",
    "import matplotlib.pyplot as plt\n",
    "import openpyxl #must be installed\n",
    "from importlib import reload \n",
    "plt=reload(plt)"
   ]
  },
  {
   "cell_type": "markdown",
   "id": "cross-strategy",
   "metadata": {},
   "source": [
    "## 1. Read the data that is in the file and display it"
   ]
  },
  {
   "cell_type": "code",
   "execution_count": 11,
   "id": "mysterious-walter",
   "metadata": {},
   "outputs": [
    {
     "data": {
      "text/html": [
       "<div>\n",
       "<style scoped>\n",
       "    .dataframe tbody tr th:only-of-type {\n",
       "        vertical-align: middle;\n",
       "    }\n",
       "\n",
       "    .dataframe tbody tr th {\n",
       "        vertical-align: top;\n",
       "    }\n",
       "\n",
       "    .dataframe thead th {\n",
       "        text-align: right;\n",
       "    }\n",
       "</style>\n",
       "<table border=\"1\" class=\"dataframe\">\n",
       "  <thead>\n",
       "    <tr style=\"text-align: right;\">\n",
       "      <th></th>\n",
       "      <th>Direction</th>\n",
       "      <th>Year</th>\n",
       "      <th>Date</th>\n",
       "      <th>Weekday</th>\n",
       "      <th>Current_Match</th>\n",
       "      <th>Country</th>\n",
       "      <th>Commodity</th>\n",
       "      <th>Transport_Mode</th>\n",
       "      <th>Measure</th>\n",
       "      <th>Value</th>\n",
       "      <th>Cumulative</th>\n",
       "    </tr>\n",
       "  </thead>\n",
       "  <tbody>\n",
       "    <tr>\n",
       "      <th>0</th>\n",
       "      <td>Exports</td>\n",
       "      <td>2015</td>\n",
       "      <td>31/01/2015</td>\n",
       "      <td>Saturday</td>\n",
       "      <td>01/02/2020</td>\n",
       "      <td>All</td>\n",
       "      <td>All</td>\n",
       "      <td>All</td>\n",
       "      <td>$</td>\n",
       "      <td>257000000</td>\n",
       "      <td>257000000</td>\n",
       "    </tr>\n",
       "    <tr>\n",
       "      <th>1</th>\n",
       "      <td>Exports</td>\n",
       "      <td>2015</td>\n",
       "      <td>01/02/2015</td>\n",
       "      <td>Sunday</td>\n",
       "      <td>02/02/2020</td>\n",
       "      <td>All</td>\n",
       "      <td>All</td>\n",
       "      <td>All</td>\n",
       "      <td>$</td>\n",
       "      <td>123000000</td>\n",
       "      <td>380000000</td>\n",
       "    </tr>\n",
       "    <tr>\n",
       "      <th>2</th>\n",
       "      <td>Exports</td>\n",
       "      <td>2015</td>\n",
       "      <td>02/02/2015</td>\n",
       "      <td>Monday</td>\n",
       "      <td>03/02/2020</td>\n",
       "      <td>All</td>\n",
       "      <td>All</td>\n",
       "      <td>All</td>\n",
       "      <td>$</td>\n",
       "      <td>176000000</td>\n",
       "      <td>556000000</td>\n",
       "    </tr>\n",
       "    <tr>\n",
       "      <th>3</th>\n",
       "      <td>Exports</td>\n",
       "      <td>2015</td>\n",
       "      <td>03/02/2015</td>\n",
       "      <td>Tuesday</td>\n",
       "      <td>04/02/2020</td>\n",
       "      <td>All</td>\n",
       "      <td>All</td>\n",
       "      <td>All</td>\n",
       "      <td>$</td>\n",
       "      <td>115000000</td>\n",
       "      <td>671000000</td>\n",
       "    </tr>\n",
       "    <tr>\n",
       "      <th>4</th>\n",
       "      <td>Exports</td>\n",
       "      <td>2015</td>\n",
       "      <td>04/02/2015</td>\n",
       "      <td>Wednesday</td>\n",
       "      <td>05/02/2020</td>\n",
       "      <td>All</td>\n",
       "      <td>All</td>\n",
       "      <td>All</td>\n",
       "      <td>$</td>\n",
       "      <td>74000000</td>\n",
       "      <td>746000000</td>\n",
       "    </tr>\n",
       "    <tr>\n",
       "      <th>...</th>\n",
       "      <td>...</td>\n",
       "      <td>...</td>\n",
       "      <td>...</td>\n",
       "      <td>...</td>\n",
       "      <td>...</td>\n",
       "      <td>...</td>\n",
       "      <td>...</td>\n",
       "      <td>...</td>\n",
       "      <td>...</td>\n",
       "      <td>...</td>\n",
       "      <td>...</td>\n",
       "    </tr>\n",
       "    <tr>\n",
       "      <th>53249</th>\n",
       "      <td>Reimpor</td>\n",
       "      <td>2020</td>\n",
       "      <td>05/09/2020</td>\n",
       "      <td>Saturday</td>\n",
       "      <td>05/09/2020</td>\n",
       "      <td>All</td>\n",
       "      <td>All</td>\n",
       "      <td>All</td>\n",
       "      <td>$</td>\n",
       "      <td>0</td>\n",
       "      <td>126000000</td>\n",
       "    </tr>\n",
       "    <tr>\n",
       "      <th>53250</th>\n",
       "      <td>Reimpor</td>\n",
       "      <td>2020</td>\n",
       "      <td>06/09/2020</td>\n",
       "      <td>Sunday</td>\n",
       "      <td>06/09/2020</td>\n",
       "      <td>All</td>\n",
       "      <td>All</td>\n",
       "      <td>All</td>\n",
       "      <td>$</td>\n",
       "      <td>0</td>\n",
       "      <td>126000000</td>\n",
       "    </tr>\n",
       "    <tr>\n",
       "      <th>53251</th>\n",
       "      <td>Reimpor</td>\n",
       "      <td>2020</td>\n",
       "      <td>07/09/2020</td>\n",
       "      <td>Monday</td>\n",
       "      <td>07/09/2020</td>\n",
       "      <td>All</td>\n",
       "      <td>All</td>\n",
       "      <td>All</td>\n",
       "      <td>$</td>\n",
       "      <td>0</td>\n",
       "      <td>126000000</td>\n",
       "    </tr>\n",
       "    <tr>\n",
       "      <th>53252</th>\n",
       "      <td>Reimpor</td>\n",
       "      <td>2020</td>\n",
       "      <td>08/09/2020</td>\n",
       "      <td>Tuesday</td>\n",
       "      <td>08/09/2020</td>\n",
       "      <td>All</td>\n",
       "      <td>All</td>\n",
       "      <td>All</td>\n",
       "      <td>$</td>\n",
       "      <td>0</td>\n",
       "      <td>127000000</td>\n",
       "    </tr>\n",
       "    <tr>\n",
       "      <th>53253</th>\n",
       "      <td>Reimpor</td>\n",
       "      <td>2020</td>\n",
       "      <td>09/09/2020</td>\n",
       "      <td>Wednesday</td>\n",
       "      <td>09/09/2020</td>\n",
       "      <td>All</td>\n",
       "      <td>All</td>\n",
       "      <td>All</td>\n",
       "      <td>$</td>\n",
       "      <td>1000000</td>\n",
       "      <td>128000000</td>\n",
       "    </tr>\n",
       "  </tbody>\n",
       "</table>\n",
       "<p>53254 rows × 11 columns</p>\n",
       "</div>"
      ],
      "text/plain": [
       "      Direction  Year        Date    Weekday Current_Match Country Commodity  \\\n",
       "0       Exports  2015  31/01/2015   Saturday    01/02/2020     All       All   \n",
       "1       Exports  2015  01/02/2015     Sunday    02/02/2020     All       All   \n",
       "2       Exports  2015  02/02/2015     Monday    03/02/2020     All       All   \n",
       "3       Exports  2015  03/02/2015    Tuesday    04/02/2020     All       All   \n",
       "4       Exports  2015  04/02/2015  Wednesday    05/02/2020     All       All   \n",
       "...         ...   ...         ...        ...           ...     ...       ...   \n",
       "53249   Reimpor  2020  05/09/2020   Saturday    05/09/2020     All       All   \n",
       "53250   Reimpor  2020  06/09/2020     Sunday    06/09/2020     All       All   \n",
       "53251   Reimpor  2020  07/09/2020     Monday    07/09/2020     All       All   \n",
       "53252   Reimpor  2020  08/09/2020    Tuesday    08/09/2020     All       All   \n",
       "53253   Reimpor  2020  09/09/2020  Wednesday    09/09/2020     All       All   \n",
       "\n",
       "      Transport_Mode Measure      Value  Cumulative  \n",
       "0                All       $  257000000   257000000  \n",
       "1                All       $  123000000   380000000  \n",
       "2                All       $  176000000   556000000  \n",
       "3                All       $  115000000   671000000  \n",
       "4                All       $   74000000   746000000  \n",
       "...              ...     ...        ...         ...  \n",
       "53249            All       $          0   126000000  \n",
       "53250            All       $          0   126000000  \n",
       "53251            All       $          0   126000000  \n",
       "53252            All       $          0   127000000  \n",
       "53253            All       $    1000000   128000000  \n",
       "\n",
       "[53254 rows x 11 columns]"
      ]
     },
     "execution_count": 11,
     "metadata": {},
     "output_type": "execute_result"
    }
   ],
   "source": [
    "df = pd.read_csv(\"data.csv\")\n",
    "df"
   ]
  },
  {
   "cell_type": "markdown",
   "id": "african-stick",
   "metadata": {},
   "source": [
    "## 2. Getting the data for each year\n",
    "* **2015**\n",
    "    * (imports and exports value)\n",
    "* **2016**\n",
    "    * (imports and exports value)\n",
    "* **2017**\n",
    "    * (imports and exports value)\n",
    "* **2018**\n",
    "    * (imports and exports value)\n",
    "* **2019**\n",
    "    * (imports and exports value)\n",
    "* **2020**\n",
    "    * (imports and exports value)\n"
   ]
  },
  {
   "cell_type": "markdown",
   "id": "promising-event",
   "metadata": {},
   "source": [
    "### 2015"
   ]
  },
  {
   "cell_type": "code",
   "execution_count": 22,
   "id": "ordered-armstrong",
   "metadata": {},
   "outputs": [
    {
     "name": "stdout",
     "output_type": "stream",
     "text": [
      "(222,)\n",
      "(6659,)\n"
     ]
    }
   ],
   "source": [
    "# imports\n",
    "imp2015 = np.array(df.loc[(df.Direction ==\"Reimpor\") & (df.Year == 2015)].Value)\n",
    "# exports\n",
    "exp2015 = np.array(df.loc[(df.Direction ==\"Exports\") & (df.Year == 2015)].Value)\n"
   ]
  },
  {
   "cell_type": "code",
   "execution_count": null,
   "id": "oriented-planning",
   "metadata": {},
   "outputs": [],
   "source": [
    "### 2016"
   ]
  },
  {
   "cell_type": "code",
   "execution_count": null,
   "id": "bridal-clothing",
   "metadata": {},
   "outputs": [],
   "source": []
  },
  {
   "cell_type": "code",
   "execution_count": null,
   "id": "multiple-union",
   "metadata": {},
   "outputs": [],
   "source": [
    "### 2017"
   ]
  },
  {
   "cell_type": "code",
   "execution_count": null,
   "id": "aging-article",
   "metadata": {},
   "outputs": [],
   "source": []
  },
  {
   "cell_type": "code",
   "execution_count": null,
   "id": "revised-elder",
   "metadata": {},
   "outputs": [],
   "source": [
    "### 2018"
   ]
  },
  {
   "cell_type": "code",
   "execution_count": null,
   "id": "religious-daily",
   "metadata": {},
   "outputs": [],
   "source": []
  },
  {
   "cell_type": "code",
   "execution_count": null,
   "id": "tested-missile",
   "metadata": {},
   "outputs": [],
   "source": [
    "### 2019"
   ]
  },
  {
   "cell_type": "markdown",
   "id": "intelligent-diamond",
   "metadata": {},
   "source": [
    "### 2020"
   ]
  },
  {
   "cell_type": "code",
   "execution_count": null,
   "id": "equipped-taste",
   "metadata": {},
   "outputs": [],
   "source": []
  }
 ],
 "metadata": {
  "kernelspec": {
   "display_name": "Python 3",
   "language": "python",
   "name": "python3"
  },
  "language_info": {
   "codemirror_mode": {
    "name": "ipython",
    "version": 3
   },
   "file_extension": ".py",
   "mimetype": "text/x-python",
   "name": "python",
   "nbconvert_exporter": "python",
   "pygments_lexer": "ipython3",
   "version": "3.8.5"
  }
 },
 "nbformat": 4,
 "nbformat_minor": 5
}
