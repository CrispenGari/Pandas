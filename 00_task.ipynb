{
 "cells": [
  {
   "cell_type": "markdown",
   "id": "51b94b3e",
   "metadata": {},
   "source": [
    "### Task \n",
    "\n",
    "In this task you are required to read the markdown for before each code cell and write the code based on the instructions given.\n",
    "\n",
    "\n",
    "1. Import two packages `numpy` and `pandas` with their respective alias and print the versions of these packages so that the output will be as follows\n",
    "\n",
    "```shell\n",
    "numpy: 1.24.3\n",
    "pandas: 2.1.1\n",
    "```"
   ]
  },
  {
   "cell_type": "code",
   "execution_count": 1,
   "id": "101e7e49",
   "metadata": {},
   "outputs": [
    {
     "name": "stdout",
     "output_type": "stream",
     "text": [
      "numpy: 1.24.3\n",
      "pandas: 2.1.1\n"
     ]
    }
   ],
   "source": [
    "import pandas as pd\n",
    "import numpy as np\n",
    "\n",
    "print(f\"numpy: {np.__version__}\")\n",
    "print(f\"pandas: {pd.__version__}\")"
   ]
  },
  {
   "cell_type": "markdown",
   "id": "b6fc3d7e",
   "metadata": {},
   "source": [
    "A file called `cars.xlsx` contains the information about the cars. Read this file into a pandas dataframe and check the first `3` rows of this dataframe using the `head` method."
   ]
  },
  {
   "cell_type": "code",
   "execution_count": 3,
   "id": "2ecb7e64",
   "metadata": {},
   "outputs": [
    {
     "data": {
      "text/html": [
       "<div>\n",
       "<style scoped>\n",
       "    .dataframe tbody tr th:only-of-type {\n",
       "        vertical-align: middle;\n",
       "    }\n",
       "\n",
       "    .dataframe tbody tr th {\n",
       "        vertical-align: top;\n",
       "    }\n",
       "\n",
       "    .dataframe thead th {\n",
       "        text-align: right;\n",
       "    }\n",
       "</style>\n",
       "<table border=\"1\" class=\"dataframe\">\n",
       "  <thead>\n",
       "    <tr style=\"text-align: right;\">\n",
       "      <th></th>\n",
       "      <th>mpg</th>\n",
       "      <th>engine</th>\n",
       "      <th>horse</th>\n",
       "      <th>weight</th>\n",
       "      <th>accel</th>\n",
       "      <th>year</th>\n",
       "      <th>origin</th>\n",
       "      <th>cylinder</th>\n",
       "      <th>filter_.</th>\n",
       "      <th>mpg1</th>\n",
       "    </tr>\n",
       "  </thead>\n",
       "  <tbody>\n",
       "    <tr>\n",
       "      <th>0</th>\n",
       "      <td>9.0</td>\n",
       "      <td>4.0</td>\n",
       "      <td>93.0</td>\n",
       "      <td>732</td>\n",
       "      <td>8.5</td>\n",
       "      <td>0</td>\n",
       "      <td>NaN</td>\n",
       "      <td>NaN</td>\n",
       "      <td>NaN</td>\n",
       "      <td>9.98</td>\n",
       "    </tr>\n",
       "    <tr>\n",
       "      <th>1</th>\n",
       "      <td>10.0</td>\n",
       "      <td>360.0</td>\n",
       "      <td>215.0</td>\n",
       "      <td>4615</td>\n",
       "      <td>14.0</td>\n",
       "      <td>70</td>\n",
       "      <td>1.0</td>\n",
       "      <td>8.0</td>\n",
       "      <td>0.0</td>\n",
       "      <td>10.87</td>\n",
       "    </tr>\n",
       "    <tr>\n",
       "      <th>2</th>\n",
       "      <td>10.0</td>\n",
       "      <td>307.0</td>\n",
       "      <td>200.0</td>\n",
       "      <td>4376</td>\n",
       "      <td>15.0</td>\n",
       "      <td>70</td>\n",
       "      <td>1.0</td>\n",
       "      <td>8.0</td>\n",
       "      <td>0.0</td>\n",
       "      <td>9.63</td>\n",
       "    </tr>\n",
       "  </tbody>\n",
       "</table>\n",
       "</div>"
      ],
      "text/plain": [
       "    mpg  engine  horse  weight  accel  year  origin  cylinder  filter_.   mpg1\n",
       "0   9.0     4.0   93.0     732    8.5     0     NaN       NaN       NaN   9.98\n",
       "1  10.0   360.0  215.0    4615   14.0    70     1.0       8.0       0.0  10.87\n",
       "2  10.0   307.0  200.0    4376   15.0    70     1.0       8.0       0.0   9.63"
      ]
     },
     "execution_count": 3,
     "metadata": {},
     "output_type": "execute_result"
    }
   ],
   "source": [
    "dataframe = pd.read_excel('files/cars.xlsx')\n",
    "dataframe.head(3)"
   ]
  },
  {
   "cell_type": "markdown",
   "id": "59416e08",
   "metadata": {},
   "source": [
    "In the following 3 code cells you are required to:\n",
    "    \n",
    "1. check if the dataframe has `na` values\n",
    "2. check if the dataframe has `null` values\n",
    "3. clean the dataframe using `drop_na()` function"
   ]
  },
  {
   "cell_type": "code",
   "execution_count": 5,
   "id": "c8e21ed9",
   "metadata": {},
   "outputs": [
    {
     "data": {
      "text/plain": [
       "mpg          True\n",
       "engine      False\n",
       "horse        True\n",
       "weight      False\n",
       "accel       False\n",
       "year        False\n",
       "origin       True\n",
       "cylinder     True\n",
       "filter_.     True\n",
       "mpg1         True\n",
       "dtype: bool"
      ]
     },
     "execution_count": 5,
     "metadata": {},
     "output_type": "execute_result"
    }
   ],
   "source": [
    "dataframe.isna().any()"
   ]
  },
  {
   "cell_type": "code",
   "execution_count": 6,
   "id": "833ee203",
   "metadata": {},
   "outputs": [
    {
     "data": {
      "text/plain": [
       "mpg          True\n",
       "engine      False\n",
       "horse        True\n",
       "weight      False\n",
       "accel       False\n",
       "year        False\n",
       "origin       True\n",
       "cylinder     True\n",
       "filter_.     True\n",
       "mpg1         True\n",
       "dtype: bool"
      ]
     },
     "execution_count": 6,
     "metadata": {},
     "output_type": "execute_result"
    }
   ],
   "source": [
    "dataframe.isnull().any()"
   ]
  },
  {
   "cell_type": "code",
   "execution_count": 7,
   "id": "2b7a0003",
   "metadata": {},
   "outputs": [],
   "source": [
    "dataframe.dropna(inplace=True)"
   ]
  },
  {
   "cell_type": "markdown",
   "id": "90d3f8cc",
   "metadata": {},
   "source": [
    "Save the cleaned values of the dataframe in a file called `cars_clean.csv`."
   ]
  },
  {
   "cell_type": "code",
   "execution_count": 8,
   "id": "bc5b6574",
   "metadata": {},
   "outputs": [
    {
     "name": "stdout",
     "output_type": "stream",
     "text": [
      "saved!\n"
     ]
    }
   ],
   "source": [
    "dataframe.to_csv('files/cars_clean.csv', index=False)\n",
    "print('saved!')"
   ]
  },
  {
   "cell_type": "markdown",
   "id": "de39f44c",
   "metadata": {},
   "source": [
    "You are required to create a dataframe called `df3` which will contain the following columns in it from the original dataframe.\n",
    "\n",
    "1. mpg\t\n",
    "2. engine\t\n",
    "3. horse\t\n",
    "4. weight"
   ]
  },
  {
   "cell_type": "code",
   "execution_count": 9,
   "id": "6b3225f2",
   "metadata": {},
   "outputs": [
    {
     "data": {
      "text/html": [
       "<div>\n",
       "<style scoped>\n",
       "    .dataframe tbody tr th:only-of-type {\n",
       "        vertical-align: middle;\n",
       "    }\n",
       "\n",
       "    .dataframe tbody tr th {\n",
       "        vertical-align: top;\n",
       "    }\n",
       "\n",
       "    .dataframe thead th {\n",
       "        text-align: right;\n",
       "    }\n",
       "</style>\n",
       "<table border=\"1\" class=\"dataframe\">\n",
       "  <thead>\n",
       "    <tr style=\"text-align: right;\">\n",
       "      <th></th>\n",
       "      <th>mpg</th>\n",
       "      <th>engine</th>\n",
       "      <th>horse</th>\n",
       "      <th>weight</th>\n",
       "    </tr>\n",
       "  </thead>\n",
       "  <tbody>\n",
       "    <tr>\n",
       "      <th>1</th>\n",
       "      <td>10.0</td>\n",
       "      <td>360.0</td>\n",
       "      <td>215.0</td>\n",
       "      <td>4615</td>\n",
       "    </tr>\n",
       "  </tbody>\n",
       "</table>\n",
       "</div>"
      ],
      "text/plain": [
       "    mpg  engine  horse  weight\n",
       "1  10.0   360.0  215.0    4615"
      ]
     },
     "execution_count": 9,
     "metadata": {},
     "output_type": "execute_result"
    }
   ],
   "source": [
    "df3 = dataframe[['mpg', 'engine', 'horse', 'weight']]\n",
    "df3.head(1)"
   ]
  },
  {
   "cell_type": "markdown",
   "id": "8d575ac1",
   "metadata": {},
   "source": [
    "In `df3` create a column called `isFast` which will have value `True` or `False` using the `np.where()` function based on the condition that a fast car has the `horse` power that is greater than `100`"
   ]
  },
  {
   "cell_type": "code",
   "execution_count": 12,
   "id": "a99c7057",
   "metadata": {},
   "outputs": [
    {
     "name": "stderr",
     "output_type": "stream",
     "text": [
      "C:\\Users\\RGaridzirai\\AppData\\Local\\Temp\\ipykernel_3536\\366189886.py:1: SettingWithCopyWarning: \n",
      "A value is trying to be set on a copy of a slice from a DataFrame.\n",
      "Try using .loc[row_indexer,col_indexer] = value instead\n",
      "\n",
      "See the caveats in the documentation: https://pandas.pydata.org/pandas-docs/stable/user_guide/indexing.html#returning-a-view-versus-a-copy\n",
      "  df3['isFast'] = np.where(df3.horse>100, True, False)\n"
     ]
    },
    {
     "data": {
      "text/html": [
       "<div>\n",
       "<style scoped>\n",
       "    .dataframe tbody tr th:only-of-type {\n",
       "        vertical-align: middle;\n",
       "    }\n",
       "\n",
       "    .dataframe tbody tr th {\n",
       "        vertical-align: top;\n",
       "    }\n",
       "\n",
       "    .dataframe thead th {\n",
       "        text-align: right;\n",
       "    }\n",
       "</style>\n",
       "<table border=\"1\" class=\"dataframe\">\n",
       "  <thead>\n",
       "    <tr style=\"text-align: right;\">\n",
       "      <th></th>\n",
       "      <th>mpg</th>\n",
       "      <th>engine</th>\n",
       "      <th>horse</th>\n",
       "      <th>weight</th>\n",
       "      <th>isFast</th>\n",
       "    </tr>\n",
       "  </thead>\n",
       "  <tbody>\n",
       "    <tr>\n",
       "      <th>1</th>\n",
       "      <td>10.0</td>\n",
       "      <td>360.0</td>\n",
       "      <td>215.0</td>\n",
       "      <td>4615</td>\n",
       "      <td>True</td>\n",
       "    </tr>\n",
       "    <tr>\n",
       "      <th>2</th>\n",
       "      <td>10.0</td>\n",
       "      <td>307.0</td>\n",
       "      <td>200.0</td>\n",
       "      <td>4376</td>\n",
       "      <td>True</td>\n",
       "    </tr>\n",
       "    <tr>\n",
       "      <th>3</th>\n",
       "      <td>11.0</td>\n",
       "      <td>318.0</td>\n",
       "      <td>210.0</td>\n",
       "      <td>4382</td>\n",
       "      <td>True</td>\n",
       "    </tr>\n",
       "    <tr>\n",
       "      <th>4</th>\n",
       "      <td>11.0</td>\n",
       "      <td>429.0</td>\n",
       "      <td>208.0</td>\n",
       "      <td>4633</td>\n",
       "      <td>True</td>\n",
       "    </tr>\n",
       "    <tr>\n",
       "      <th>5</th>\n",
       "      <td>11.0</td>\n",
       "      <td>400.0</td>\n",
       "      <td>150.0</td>\n",
       "      <td>4997</td>\n",
       "      <td>True</td>\n",
       "    </tr>\n",
       "  </tbody>\n",
       "</table>\n",
       "</div>"
      ],
      "text/plain": [
       "    mpg  engine  horse  weight  isFast\n",
       "1  10.0   360.0  215.0    4615    True\n",
       "2  10.0   307.0  200.0    4376    True\n",
       "3  11.0   318.0  210.0    4382    True\n",
       "4  11.0   429.0  208.0    4633    True\n",
       "5  11.0   400.0  150.0    4997    True"
      ]
     },
     "execution_count": 12,
     "metadata": {},
     "output_type": "execute_result"
    }
   ],
   "source": [
    "df3['isFast'] = np.where(df3.horse>100, True, False)\n",
    "df3.head(5)"
   ]
  },
  {
   "cell_type": "markdown",
   "id": "34355a02",
   "metadata": {},
   "source": [
    "In `df3` divide all the values by `3` using the `div()` method and display the first `4` rows of the dataframe using the `head()` method."
   ]
  },
  {
   "cell_type": "code",
   "execution_count": 13,
   "id": "431662a1",
   "metadata": {},
   "outputs": [
    {
     "data": {
      "text/html": [
       "<div>\n",
       "<style scoped>\n",
       "    .dataframe tbody tr th:only-of-type {\n",
       "        vertical-align: middle;\n",
       "    }\n",
       "\n",
       "    .dataframe tbody tr th {\n",
       "        vertical-align: top;\n",
       "    }\n",
       "\n",
       "    .dataframe thead th {\n",
       "        text-align: right;\n",
       "    }\n",
       "</style>\n",
       "<table border=\"1\" class=\"dataframe\">\n",
       "  <thead>\n",
       "    <tr style=\"text-align: right;\">\n",
       "      <th></th>\n",
       "      <th>mpg</th>\n",
       "      <th>engine</th>\n",
       "      <th>horse</th>\n",
       "      <th>weight</th>\n",
       "      <th>isFast</th>\n",
       "    </tr>\n",
       "  </thead>\n",
       "  <tbody>\n",
       "    <tr>\n",
       "      <th>1</th>\n",
       "      <td>3.333333</td>\n",
       "      <td>120.000000</td>\n",
       "      <td>71.666667</td>\n",
       "      <td>1538.333333</td>\n",
       "      <td>0.333333</td>\n",
       "    </tr>\n",
       "    <tr>\n",
       "      <th>2</th>\n",
       "      <td>3.333333</td>\n",
       "      <td>102.333333</td>\n",
       "      <td>66.666667</td>\n",
       "      <td>1458.666667</td>\n",
       "      <td>0.333333</td>\n",
       "    </tr>\n",
       "    <tr>\n",
       "      <th>3</th>\n",
       "      <td>3.666667</td>\n",
       "      <td>106.000000</td>\n",
       "      <td>70.000000</td>\n",
       "      <td>1460.666667</td>\n",
       "      <td>0.333333</td>\n",
       "    </tr>\n",
       "    <tr>\n",
       "      <th>4</th>\n",
       "      <td>3.666667</td>\n",
       "      <td>143.000000</td>\n",
       "      <td>69.333333</td>\n",
       "      <td>1544.333333</td>\n",
       "      <td>0.333333</td>\n",
       "    </tr>\n",
       "  </tbody>\n",
       "</table>\n",
       "</div>"
      ],
      "text/plain": [
       "        mpg      engine      horse       weight    isFast\n",
       "1  3.333333  120.000000  71.666667  1538.333333  0.333333\n",
       "2  3.333333  102.333333  66.666667  1458.666667  0.333333\n",
       "3  3.666667  106.000000  70.000000  1460.666667  0.333333\n",
       "4  3.666667  143.000000  69.333333  1544.333333  0.333333"
      ]
     },
     "execution_count": 13,
     "metadata": {},
     "output_type": "execute_result"
    }
   ],
   "source": [
    "df3.div(3).head(4)"
   ]
  },
  {
   "cell_type": "markdown",
   "id": "8f861b5f",
   "metadata": {},
   "source": [
    "In `df3` get the `mpg` values into a numpy array and slice the first `10` values."
   ]
  },
  {
   "cell_type": "code",
   "execution_count": 14,
   "id": "3cafdd93",
   "metadata": {},
   "outputs": [
    {
     "data": {
      "text/plain": [
       "array([10., 10., 11., 11., 11., 11., 12., 12., 12., 12.])"
      ]
     },
     "execution_count": 14,
     "metadata": {},
     "output_type": "execute_result"
    }
   ],
   "source": [
    "mpg = df3.mpg.values[:10]\n",
    "mpg"
   ]
  },
  {
   "cell_type": "markdown",
   "id": "5026bc26",
   "metadata": {},
   "source": [
    "Get the columns of the original dataframe using the `columns` propety and print them as a list."
   ]
  },
  {
   "cell_type": "code",
   "execution_count": 15,
   "id": "4d57594b",
   "metadata": {},
   "outputs": [
    {
     "name": "stdout",
     "output_type": "stream",
     "text": [
      "1. mpg\n",
      "2. engine\n",
      "3. horse\n",
      "4. weight\n",
      "5. accel\n",
      "6. year\n",
      "7. origin\n",
      "8. cylinder\n",
      "9. filter_.\n",
      "10. mpg1\n"
     ]
    }
   ],
   "source": [
    "for i, column in enumerate(dataframe.columns):\n",
    "    print(f\"{i+1}. {column}\")"
   ]
  },
  {
   "cell_type": "markdown",
   "id": "b458a31a",
   "metadata": {},
   "source": [
    "Get the uniquie values of the column `year` from the original dataset using the `unique` method and print them."
   ]
  },
  {
   "cell_type": "code",
   "execution_count": 16,
   "id": "c5765798",
   "metadata": {},
   "outputs": [
    {
     "name": "stdout",
     "output_type": "stream",
     "text": [
      "1. 70\n",
      "2. 72\n",
      "3. 73\n",
      "4. 71\n",
      "5. 74\n",
      "6. 75\n",
      "7. 76\n",
      "8. 77\n",
      "9. 79\n",
      "10. 78\n",
      "11. 81\n",
      "12. 80\n",
      "13. 82\n"
     ]
    }
   ],
   "source": [
    "for i, year in enumerate(dataframe.year.unique()):\n",
    "    print(f\"{i+1}. {year}\")"
   ]
  }
 ],
 "metadata": {
  "kernelspec": {
   "display_name": "Python 3 (ipykernel)",
   "language": "python",
   "name": "python3"
  },
  "language_info": {
   "codemirror_mode": {
    "name": "ipython",
    "version": 3
   },
   "file_extension": ".py",
   "mimetype": "text/x-python",
   "name": "python",
   "nbconvert_exporter": "python",
   "pygments_lexer": "ipython3",
   "version": "3.11.5"
  }
 },
 "nbformat": 4,
 "nbformat_minor": 5
}
