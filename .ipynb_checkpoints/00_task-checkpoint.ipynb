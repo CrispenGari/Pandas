{
 "cells": [
  {
   "cell_type": "markdown",
   "id": "51b94b3e",
   "metadata": {},
   "source": [
    "### Task \n",
    "\n",
    "In this task you are required to read the markdown for before each code cell and write the code based on the instructions given.\n",
    "\n",
    "\n",
    "1. Import two packages `numpy` and `pandas` with their respective alias and print the versions of these packages so that the output will be as follows\n",
    "\n",
    "```shell\n",
    "numpy: 1.24.3\n",
    "pandas: 2.1.1\n",
    "```"
   ]
  },
  {
   "cell_type": "code",
   "execution_count": null,
   "id": "101e7e49",
   "metadata": {},
   "outputs": [],
   "source": []
  },
  {
   "cell_type": "markdown",
   "id": "b6fc3d7e",
   "metadata": {},
   "source": [
    "A file called `cars.xlsx` contains the information about the cars. Read this file into a pandas dataframe and check the first `3` rows of this dataframe using the `head` method."
   ]
  },
  {
   "cell_type": "code",
   "execution_count": null,
   "id": "2ecb7e64",
   "metadata": {},
   "outputs": [],
   "source": []
  },
  {
   "cell_type": "markdown",
   "id": "59416e08",
   "metadata": {},
   "source": [
    "In the following 3 code cells you are required to:\n",
    "    \n",
    "1. check if the dataframe has `na` values\n",
    "2. check if the dataframe has `null` values\n",
    "3. clean the dataframe using `drop_na()` function"
   ]
  },
  {
   "cell_type": "code",
   "execution_count": null,
   "id": "c8e21ed9",
   "metadata": {},
   "outputs": [],
   "source": []
  },
  {
   "cell_type": "code",
   "execution_count": null,
   "id": "833ee203",
   "metadata": {},
   "outputs": [],
   "source": []
  },
  {
   "cell_type": "code",
   "execution_count": null,
   "id": "2b7a0003",
   "metadata": {},
   "outputs": [],
   "source": []
  },
  {
   "cell_type": "markdown",
   "id": "90d3f8cc",
   "metadata": {},
   "source": [
    "Save the cleaned values of the dataframe in a file called `cars_clean.csv`."
   ]
  },
  {
   "cell_type": "code",
   "execution_count": null,
   "id": "bc5b6574",
   "metadata": {},
   "outputs": [],
   "source": []
  },
  {
   "cell_type": "markdown",
   "id": "de39f44c",
   "metadata": {},
   "source": [
    "You are required to create a dataframe called `df3` which will contain the following columns in it from the original dataframe.\n",
    "\n",
    "1. mpg\t\n",
    "2. engine\t\n",
    "3. horse\t\n",
    "4. weight"
   ]
  },
  {
   "cell_type": "code",
   "execution_count": null,
   "id": "6b3225f2",
   "metadata": {},
   "outputs": [],
   "source": []
  },
  {
   "cell_type": "markdown",
   "id": "8d575ac1",
   "metadata": {},
   "source": [
    "In `df3` create a column called `isFast` which will have value `True` or `False` using the `np.where()` function based on the condition that a fast car has the `horse` power that is greater than `100`"
   ]
  },
  {
   "cell_type": "code",
   "execution_count": null,
   "id": "a99c7057",
   "metadata": {},
   "outputs": [],
   "source": []
  },
  {
   "cell_type": "markdown",
   "id": "34355a02",
   "metadata": {},
   "source": [
    "In `df3` divide all the values by `3` using the `div()` method and display the first `4` rows of the dataframe using the `head()` method."
   ]
  },
  {
   "cell_type": "code",
   "execution_count": null,
   "id": "431662a1",
   "metadata": {},
   "outputs": [],
   "source": []
  },
  {
   "cell_type": "markdown",
   "id": "8f861b5f",
   "metadata": {},
   "source": [
    "In `df3` get the `mpg` values into a numpy array and slice the first `10` values."
   ]
  },
  {
   "cell_type": "code",
   "execution_count": null,
   "id": "3cafdd93",
   "metadata": {},
   "outputs": [],
   "source": []
  },
  {
   "cell_type": "markdown",
   "id": "5026bc26",
   "metadata": {},
   "source": [
    "Get the columns of the original dataframe using the `columns` propety and print them as a list."
   ]
  },
  {
   "cell_type": "code",
   "execution_count": null,
   "id": "4d57594b",
   "metadata": {},
   "outputs": [],
   "source": []
  },
  {
   "cell_type": "markdown",
   "id": "b458a31a",
   "metadata": {},
   "source": [
    "Get the uniquie values of the column `year` from the original dataset using the `unique` method and print them."
   ]
  },
  {
   "cell_type": "code",
   "execution_count": null,
   "id": "c5765798",
   "metadata": {},
   "outputs": [],
   "source": []
  }
 ],
 "metadata": {
  "kernelspec": {
   "display_name": "Python 3 (ipykernel)",
   "language": "python",
   "name": "python3"
  },
  "language_info": {
   "codemirror_mode": {
    "name": "ipython",
    "version": 3
   },
   "file_extension": ".py",
   "mimetype": "text/x-python",
   "name": "python",
   "nbconvert_exporter": "python",
   "pygments_lexer": "ipython3",
   "version": "3.11.5"
  }
 },
 "nbformat": 4,
 "nbformat_minor": 5
}
